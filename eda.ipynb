{
 "cells": [
  {
   "cell_type": "code",
   "execution_count": 112,
   "metadata": {},
   "outputs": [
    {
     "data": {
      "text/html": [
       "<div>\n",
       "<style scoped>\n",
       "    .dataframe tbody tr th:only-of-type {\n",
       "        vertical-align: middle;\n",
       "    }\n",
       "\n",
       "    .dataframe tbody tr th {\n",
       "        vertical-align: top;\n",
       "    }\n",
       "\n",
       "    .dataframe thead th {\n",
       "        text-align: right;\n",
       "    }\n",
       "</style>\n",
       "<table border=\"1\" class=\"dataframe\">\n",
       "  <thead>\n",
       "    <tr style=\"text-align: right;\">\n",
       "      <th></th>\n",
       "      <th>Name</th>\n",
       "      <th>Action</th>\n",
       "      <th>2018/19</th>\n",
       "      <th>2019/20</th>\n",
       "      <th>2020/21</th>\n",
       "      <th>2021/22</th>\n",
       "      <th>2022/23</th>\n",
       "      <th>May2023/24</th>\n",
       "    </tr>\n",
       "  </thead>\n",
       "  <tbody>\n",
       "    <tr>\n",
       "      <th>0</th>\n",
       "      <td>Algeria</td>\n",
       "      <td>consumption</td>\n",
       "      <td>2080</td>\n",
       "      <td>2124</td>\n",
       "      <td>1936</td>\n",
       "      <td>1889</td>\n",
       "      <td>1682</td>\n",
       "      <td>1897</td>\n",
       "    </tr>\n",
       "    <tr>\n",
       "      <th>1</th>\n",
       "      <td>Algeria</td>\n",
       "      <td>ending</td>\n",
       "      <td>420</td>\n",
       "      <td>430</td>\n",
       "      <td>387</td>\n",
       "      <td>377</td>\n",
       "      <td>336</td>\n",
       "      <td>375</td>\n",
       "    </tr>\n",
       "    <tr>\n",
       "      <th>2</th>\n",
       "      <td>Algeria</td>\n",
       "      <td>export</td>\n",
       "      <td>208</td>\n",
       "      <td>334</td>\n",
       "      <td>364</td>\n",
       "      <td>366</td>\n",
       "      <td>360</td>\n",
       "      <td>365</td>\n",
       "    </tr>\n",
       "    <tr>\n",
       "      <th>3</th>\n",
       "      <td>Algeria</td>\n",
       "      <td>import</td>\n",
       "      <td>2328</td>\n",
       "      <td>2468</td>\n",
       "      <td>2257</td>\n",
       "      <td>2245</td>\n",
       "      <td>2001</td>\n",
       "      <td>2301</td>\n",
       "    </tr>\n",
       "    <tr>\n",
       "      <th>4</th>\n",
       "      <td>Argentina</td>\n",
       "      <td>production</td>\n",
       "      <td>1570</td>\n",
       "      <td>1750</td>\n",
       "      <td>1830</td>\n",
       "      <td>1700</td>\n",
       "      <td>1670</td>\n",
       "      <td>1690</td>\n",
       "    </tr>\n",
       "  </tbody>\n",
       "</table>\n",
       "</div>"
      ],
      "text/plain": [
       "        Name       Action  2018/19  2019/20  2020/21  2021/22  2022/23  \\\n",
       "0    Algeria  consumption     2080     2124     1936     1889     1682   \n",
       "1    Algeria       ending      420      430      387      377      336   \n",
       "2    Algeria       export      208      334      364      366      360   \n",
       "3    Algeria       import     2328     2468     2257     2245     2001   \n",
       "4  Argentina   production     1570     1750     1830     1700     1670   \n",
       "\n",
       "   May2023/24  \n",
       "0        1897  \n",
       "1         375  \n",
       "2         365  \n",
       "3        2301  \n",
       "4        1690  "
      ]
     },
     "execution_count": 112,
     "metadata": {},
     "output_type": "execute_result"
    }
   ],
   "source": [
    "import pandas as pd \n",
    "import matplotlib.pyplot as plt \n",
    "import seaborn as sns \n",
    "import numpy as np\n",
    "\n",
    "df = pd.read_csv('combined_df.csv',thousands=',')\n",
    "df.head()"
   ]
  },
  {
   "cell_type": "code",
   "execution_count": 113,
   "metadata": {},
   "outputs": [
    {
     "name": "stdout",
     "output_type": "stream",
     "text": [
      "<class 'pandas.core.frame.DataFrame'>\n",
      "RangeIndex: 135 entries, 0 to 134\n",
      "Data columns (total 8 columns):\n",
      " #   Column      Non-Null Count  Dtype \n",
      "---  ------      --------------  ----- \n",
      " 0   Name        135 non-null    object\n",
      " 1   Action      135 non-null    object\n",
      " 2   2018/19     135 non-null    int64 \n",
      " 3   2019/20     135 non-null    int64 \n",
      " 4   2020/21     135 non-null    int64 \n",
      " 5   2021/22     135 non-null    int64 \n",
      " 6   2022/23     135 non-null    int64 \n",
      " 7   May2023/24  135 non-null    int64 \n",
      "dtypes: int64(6), object(2)\n",
      "memory usage: 8.6+ KB\n"
     ]
    }
   ],
   "source": [
    "df.info()"
   ]
  },
  {
   "cell_type": "code",
   "execution_count": 114,
   "metadata": {},
   "outputs": [],
   "source": [
    "df = df.rename({'Name':'Country'},axis=1)"
   ]
  },
  {
   "cell_type": "code",
   "execution_count": 115,
   "metadata": {},
   "outputs": [
    {
     "name": "stderr",
     "output_type": "stream",
     "text": [
      "C:\\Users\\Najib\\AppData\\Local\\Temp\\ipykernel_19884\\2008533903.py:9: UserWarning: Boolean Series key will be reindexed to match DataFrame index.\n",
      "  temp_df = temp_df[(temp_df['Country']!='Total' ) & (df['Country']!='Other')]\n",
      "C:\\Users\\Najib\\AppData\\Local\\Temp\\ipykernel_19884\\2008533903.py:9: UserWarning: Boolean Series key will be reindexed to match DataFrame index.\n",
      "  temp_df = temp_df[(temp_df['Country']!='Total' ) & (df['Country']!='Other')]\n",
      "C:\\Users\\Najib\\AppData\\Local\\Temp\\ipykernel_19884\\2008533903.py:9: UserWarning: Boolean Series key will be reindexed to match DataFrame index.\n",
      "  temp_df = temp_df[(temp_df['Country']!='Total' ) & (df['Country']!='Other')]\n",
      "C:\\Users\\Najib\\AppData\\Local\\Temp\\ipykernel_19884\\2008533903.py:9: UserWarning: Boolean Series key will be reindexed to match DataFrame index.\n",
      "  temp_df = temp_df[(temp_df['Country']!='Total' ) & (df['Country']!='Other')]\n",
      "C:\\Users\\Najib\\AppData\\Local\\Temp\\ipykernel_19884\\2008533903.py:9: UserWarning: Boolean Series key will be reindexed to match DataFrame index.\n",
      "  temp_df = temp_df[(temp_df['Country']!='Total' ) & (df['Country']!='Other')]\n"
     ]
    },
    {
     "data": {
      "text/html": [
       "<div>\n",
       "<style scoped>\n",
       "    .dataframe tbody tr th:only-of-type {\n",
       "        vertical-align: middle;\n",
       "    }\n",
       "\n",
       "    .dataframe tbody tr th {\n",
       "        vertical-align: top;\n",
       "    }\n",
       "\n",
       "    .dataframe thead th {\n",
       "        text-align: right;\n",
       "    }\n",
       "</style>\n",
       "<table border=\"1\" class=\"dataframe\">\n",
       "  <thead>\n",
       "    <tr style=\"text-align: right;\">\n",
       "      <th></th>\n",
       "      <th>Country</th>\n",
       "      <th>Year</th>\n",
       "      <th>consumption</th>\n",
       "    </tr>\n",
       "  </thead>\n",
       "  <tbody>\n",
       "    <tr>\n",
       "      <th>0</th>\n",
       "      <td>Algeria</td>\n",
       "      <td>2018</td>\n",
       "      <td>2080</td>\n",
       "    </tr>\n",
       "    <tr>\n",
       "      <th>1</th>\n",
       "      <td>Bangladesh</td>\n",
       "      <td>2018</td>\n",
       "      <td>2519</td>\n",
       "    </tr>\n",
       "    <tr>\n",
       "      <th>2</th>\n",
       "      <td>Brazil</td>\n",
       "      <td>2018</td>\n",
       "      <td>10600</td>\n",
       "    </tr>\n",
       "    <tr>\n",
       "      <th>3</th>\n",
       "      <td>China</td>\n",
       "      <td>2018</td>\n",
       "      <td>15800</td>\n",
       "    </tr>\n",
       "    <tr>\n",
       "      <th>4</th>\n",
       "      <td>Colombia</td>\n",
       "      <td>2018</td>\n",
       "      <td>1858</td>\n",
       "    </tr>\n",
       "    <tr>\n",
       "      <th>...</th>\n",
       "      <td>...</td>\n",
       "      <td>...</td>\n",
       "      <td>...</td>\n",
       "    </tr>\n",
       "    <tr>\n",
       "      <th>120</th>\n",
       "      <td>Sudan</td>\n",
       "      <td>2022</td>\n",
       "      <td>1789</td>\n",
       "    </tr>\n",
       "    <tr>\n",
       "      <th>121</th>\n",
       "      <td>Thailand</td>\n",
       "      <td>2022</td>\n",
       "      <td>3100</td>\n",
       "    </tr>\n",
       "    <tr>\n",
       "      <th>122</th>\n",
       "      <td>Turkey</td>\n",
       "      <td>2022</td>\n",
       "      <td>3400</td>\n",
       "    </tr>\n",
       "    <tr>\n",
       "      <th>123</th>\n",
       "      <td>United_States</td>\n",
       "      <td>2022</td>\n",
       "      <td>11498</td>\n",
       "    </tr>\n",
       "    <tr>\n",
       "      <th>124</th>\n",
       "      <td>Vietnam</td>\n",
       "      <td>2022</td>\n",
       "      <td>2439</td>\n",
       "    </tr>\n",
       "  </tbody>\n",
       "</table>\n",
       "<p>125 rows × 3 columns</p>\n",
       "</div>"
      ],
      "text/plain": [
       "           Country  Year  consumption\n",
       "0          Algeria  2018         2080\n",
       "1       Bangladesh  2018         2519\n",
       "2           Brazil  2018        10600\n",
       "3            China  2018        15800\n",
       "4         Colombia  2018         1858\n",
       "..             ...   ...          ...\n",
       "120          Sudan  2022         1789\n",
       "121       Thailand  2022         3100\n",
       "122         Turkey  2022         3400\n",
       "123  United_States  2022        11498\n",
       "124        Vietnam  2022         2439\n",
       "\n",
       "[125 rows x 3 columns]"
      ]
     },
     "execution_count": 115,
     "metadata": {},
     "output_type": "execute_result"
    }
   ],
   "source": [
    "dummy_df = []\n",
    "action_list = df['Action'].unique()\n",
    "num_cols = ['2018/19','2019/20', '2020/21','2021/22','2022/23','May2023/24']\n",
    "df.drop('May2023/24',inplace=True,axis=1)\n",
    "df.columns = ['Country','Action','2018','2019','2020','2021','2022']\n",
    "for action in action_list:\n",
    "    temp_df = df[df['Action'] == action].copy()\n",
    "    temp_df.drop('Action',inplace=True,axis=1)\n",
    "    temp_df = temp_df[(temp_df['Country']!='Total' ) & (df['Country']!='Other')]\n",
    "    dummy_df.append(temp_df.melt(id_vars='Country',var_name='Year',value_name=action).reset_index(drop=True))\n",
    "consump_df, end_df, export_df, import_df, prod_df = dummy_df\n",
    "consump_df"
   ]
  },
  {
   "cell_type": "code",
   "execution_count": 136,
   "metadata": {},
   "outputs": [],
   "source": [
    "consump_df = consump_df.sort_values(['consumption','Year'],ascending=[False,True])\n",
    "consump_df_2022 = consump_df[consump_df['Year']=='2022']"
   ]
  },
  {
   "cell_type": "code",
   "execution_count": 140,
   "metadata": {},
   "outputs": [
    {
     "data": {
      "text/plain": [
       "(array([ 0,  1,  2,  3,  4,  5,  6,  7,  8,  9, 10, 11]),\n",
       " [Text(0, 0, 'India'),\n",
       "  Text(1, 0, 'European_Union'),\n",
       "  Text(2, 0, 'China'),\n",
       "  Text(3, 0, 'United_States'),\n",
       "  Text(4, 0, 'Brazil'),\n",
       "  Text(5, 0, 'Indonesia'),\n",
       "  Text(6, 0, 'Russia'),\n",
       "  Text(7, 0, 'Pakistan'),\n",
       "  Text(8, 0, 'Mexico'),\n",
       "  Text(9, 0, 'Egypt'),\n",
       "  Text(10, 0, 'Turkey'),\n",
       "  Text(11, 0, 'Thailand')])"
      ]
     },
     "execution_count": 140,
     "metadata": {},
     "output_type": "execute_result"
    },
    {
     "data": {
      "image/png": "[encoded data removed]",
      "text/plain": [
       "<Figure size 640x480 with 1 Axes>"
      ]
     },
     "metadata": {},
     "output_type": "display_data"
    }
   ],
   "source": [
    "sns.barplot(data=consump_df.head(55), x='Country', y = 'consumption',hue='Year',palette=sns.hls_palette(5, l=0.5, s=1))\n",
    "plt.xticks(rotation=90)"
   ]
  },
  {
   "cell_type": "code",
   "execution_count": 164,
   "metadata": {},
   "outputs": [],
   "source": [
    "def display_bar(df,action,top_n=10,title=None):\n",
    "    top_10 = df.sort_values(by=action,ascending=False).groupby('Year').head(top_n).sort_values(by=['Year',action],ascending=[True,False])\n",
    "    sns.barplot(\n",
    "        data=top_10,\n",
    "        x = 'Country',\n",
    "        y = 'production',\n",
    "        hue = 'Year',\n",
    "        palette=sns.hls_palette(5, l=0.5, s=1)\n",
    "    )\n",
    "    plt.xticks(rotation=90)\n",
    "    plt.title(title)"
   ]
  },
  {
   "cell_type": "code",
   "execution_count": 165,
   "metadata": {},
   "outputs": [
    {
     "data": {
      "image/png": "[encoded data removed]",
      "text/plain": [
       "<Figure size 640x480 with 1 Axes>"
      ]
     },
     "metadata": {},
     "output_type": "display_data"
    }
   ],
   "source": [
    "display_bar(prod_df,'production')"
   ]
  },
  {
   "cell_type": "code",
   "execution_count": 161,
   "metadata": {},
   "outputs": [
    {
     "data": {
      "text/html": [
       "<div>\n",
       "<style scoped>\n",
       "    .dataframe tbody tr th:only-of-type {\n",
       "        vertical-align: middle;\n",
       "    }\n",
       "\n",
       "    .dataframe tbody tr th {\n",
       "        vertical-align: top;\n",
       "    }\n",
       "\n",
       "    .dataframe thead th {\n",
       "        text-align: right;\n",
       "    }\n",
       "</style>\n",
       "<table border=\"1\" class=\"dataframe\">\n",
       "  <thead>\n",
       "    <tr style=\"text-align: right;\">\n",
       "      <th></th>\n",
       "      <th>Country</th>\n",
       "      <th>Year</th>\n",
       "      <th>production</th>\n",
       "    </tr>\n",
       "  </thead>\n",
       "  <tbody>\n",
       "    <tr>\n",
       "      <th>19</th>\n",
       "      <td>Thailand</td>\n",
       "      <td>2018</td>\n",
       "      <td>14581</td>\n",
       "    </tr>\n",
       "    <tr>\n",
       "      <th>44</th>\n",
       "      <td>Thailand</td>\n",
       "      <td>2019</td>\n",
       "      <td>8294</td>\n",
       "    </tr>\n",
       "    <tr>\n",
       "      <th>69</th>\n",
       "      <td>Thailand</td>\n",
       "      <td>2020</td>\n",
       "      <td>7587</td>\n",
       "    </tr>\n",
       "    <tr>\n",
       "      <th>94</th>\n",
       "      <td>Thailand</td>\n",
       "      <td>2021</td>\n",
       "      <td>10157</td>\n",
       "    </tr>\n",
       "    <tr>\n",
       "      <th>119</th>\n",
       "      <td>Thailand</td>\n",
       "      <td>2022</td>\n",
       "      <td>11040</td>\n",
       "    </tr>\n",
       "  </tbody>\n",
       "</table>\n",
       "</div>"
      ],
      "text/plain": [
       "      Country  Year  production\n",
       "19   Thailand  2018       14581\n",
       "44   Thailand  2019        8294\n",
       "69   Thailand  2020        7587\n",
       "94   Thailand  2021       10157\n",
       "119  Thailand  2022       11040"
      ]
     },
     "execution_count": 161,
     "metadata": {},
     "output_type": "execute_result"
    }
   ],
   "source": [
    "prod_df[prod_df['Country']==\"Thailand\"]"
   ]
  }
 ],
 "metadata": {
  "kernelspec": {
   "display_name": "base",
   "language": "python",
   "name": "python3"
  },
  "language_info": {
   "codemirror_mode": {
    "name": "ipython",
    "version": 3
   },
   "file_extension": ".py",
   "mimetype": "text/x-python",
   "name": "python",
   "nbconvert_exporter": "python",
   "pygments_lexer": "ipython3",
   "version": "3.10.9"
  },
  "orig_nbformat": 4
 },
 "nbformat": 4,
 "nbformat_minor": 2
}
